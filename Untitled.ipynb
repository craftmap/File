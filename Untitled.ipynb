{
 "cells": [
  {
   "cell_type": "code",
   "execution_count": 6,
   "metadata": {},
   "outputs": [],
   "source": [
    "import numpy\n",
    "from array import *\n",
    "import math\n",
    "from matplotlib import pyplot\n",
    "# помещаем рисунки в блокнот\n",
    "%matplotlib inline"
   ]
  },
  {
   "cell_type": "code",
   "execution_count": 7,
   "metadata": {},
   "outputs": [],
   "source": [
    "Ny = 10\n",
    "Nx = 15\n",
    "N = 5\n",
    "x_start, y_start = -1.0, -1.0\n",
    "x_end, y_end = 2.0, 1.0\n",
    "x = numpy.linspace(x_start, x_end, Nx)\n",
    "y = numpy.linspace(y_start, y_end, Ny)\n",
    "X, Y = numpy.meshgrid(x, y)"
   ]
  },
  {
   "cell_type": "code",
   "execution_count": 8,
   "metadata": {},
   "outputs": [
    {
     "data": {
      "text/plain": [
       "array([0., 0., 0., 0., 0.])"
      ]
     },
     "execution_count": 8,
     "metadata": {},
     "output_type": "execute_result"
    }
   ],
   "source": [
    "x_vortex = numpy.linspace(0.0, 1.0, N)\n",
    "y_vortex = numpy.zeros(N, dtype = float)\n",
    "x_cnt = y_vortex + 1\n",
    "y_vortex\n"
   ]
  },
  {
   "cell_type": "code",
   "execution_count": 12,
   "metadata": {},
   "outputs": [
    {
     "name": "stdout",
     "output_type": "stream",
     "text": [
      "Буквы a в строке нет\n",
      "Буквы a в строке нет\n",
      "Буквы a в строке нет\n",
      "Буквы a в строке нет\n",
      "Буквы a в строке нет\n",
      "Буквы a в строке нет\n",
      "Буквы a в строке нет\n",
      "Буквы a в строке нет\n",
      "Буквы a в строке нет\n",
      "Буквы a в строке нет\n",
      "Буквы a в строке нет\n"
     ]
    }
   ],
   "source": [
    "for i in 'hello world':\n",
    "     if (i == 'a'):\n",
    "         break\n",
    "     else:\n",
    "         print('Буквы a в строке нет')"
   ]
  },
  {
   "cell_type": "code",
   "execution_count": null,
   "metadata": {},
   "outputs": [],
   "source": []
  }
 ],
 "metadata": {
  "kernelspec": {
   "display_name": "Python 3",
   "language": "python",
   "name": "python3"
  },
  "language_info": {
   "codemirror_mode": {
    "name": "ipython",
    "version": 3
   },
   "file_extension": ".py",
   "mimetype": "text/x-python",
   "name": "python",
   "nbconvert_exporter": "python",
   "pygments_lexer": "ipython3",
   "version": "3.7.3"
  }
 },
 "nbformat": 4,
 "nbformat_minor": 2
}
